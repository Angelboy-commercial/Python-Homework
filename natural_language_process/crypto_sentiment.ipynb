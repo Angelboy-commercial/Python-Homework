{
 "cells": [
  {
   "cell_type": "markdown",
   "metadata": {},
   "source": [
    "# Unit 12 - Tales from the Crypto\n",
    "\n",
    "---\n"
   ]
  },
  {
   "cell_type": "markdown",
   "metadata": {},
   "source": [
    "## 1. Sentiment Analysis\n",
    "\n",
    "Use the [newsapi](https://newsapi.org/) to pull the latest news articles for Bitcoin and Ethereum and create a DataFrame of sentiment scores for each coin.\n",
    "\n",
    "Use descriptive statistics to answer the following questions:\n",
    "1. Which coin had the highest mean positive score?\n",
    "2. Which coin had the highest negative score?\n",
    "3. Which coin had the highest positive score?"
   ]
  },
  {
   "cell_type": "code",
   "execution_count": 2,
   "metadata": {},
   "outputs": [
    {
     "name": "stderr",
     "output_type": "stream",
     "text": [
      "[nltk_data] Downloading package vader_lexicon to\n",
      "[nltk_data]     C:\\Users\\Administrator\\AppData\\Roaming\\nltk_data...\n",
      "[nltk_data]   Package vader_lexicon is already up-to-date!\n",
      "\n",
      "Bad key savefig.frameon in file C:\\Users\\Administrator\\anaconda3\\envs\\pyvizenv\\lib\\site-packages\\matplotlib\\mpl-data\\stylelib\\_classic_test.mplstyle, line 421 ('savefig.frameon : True')\n",
      "You probably need to get an updated matplotlibrc file from\n",
      "https://github.com/matplotlib/matplotlib/blob/v3.4.3/matplotlibrc.template\n",
      "or from the matplotlib source distribution\n",
      "\n",
      "Bad key verbose.level in file C:\\Users\\Administrator\\anaconda3\\envs\\pyvizenv\\lib\\site-packages\\matplotlib\\mpl-data\\stylelib\\_classic_test.mplstyle, line 472 ('verbose.level  : silent      # one of silent, helpful, debug, debug-annoying')\n",
      "You probably need to get an updated matplotlibrc file from\n",
      "https://github.com/matplotlib/matplotlib/blob/v3.4.3/matplotlibrc.template\n",
      "or from the matplotlib source distribution\n",
      "\n",
      "Bad key verbose.fileo in file C:\\Users\\Administrator\\anaconda3\\envs\\pyvizenv\\lib\\site-packages\\matplotlib\\mpl-data\\stylelib\\_classic_test.mplstyle, line 473 ('verbose.fileo  : sys.stdout  # a log filename, sys.stdout or sys.stderr')\n",
      "You probably need to get an updated matplotlibrc file from\n",
      "https://github.com/matplotlib/matplotlib/blob/v3.4.3/matplotlibrc.template\n",
      "or from the matplotlib source distribution\n",
      "In C:\\Users\\Administrator\\anaconda3\\envs\\pyvizenv\\lib\\site-packages\\matplotlib\\mpl-data\\stylelib\\_classic_test.mplstyle: \n",
      "The text.latex.preview rcparam was deprecated in Matplotlib 3.3 and will be removed two minor releases later.\n",
      "In C:\\Users\\Administrator\\anaconda3\\envs\\pyvizenv\\lib\\site-packages\\matplotlib\\mpl-data\\stylelib\\_classic_test.mplstyle: \n",
      "The mathtext.fallback_to_cm rcparam was deprecated in Matplotlib 3.3 and will be removed two minor releases later.\n",
      "In C:\\Users\\Administrator\\anaconda3\\envs\\pyvizenv\\lib\\site-packages\\matplotlib\\mpl-data\\stylelib\\_classic_test.mplstyle: Support for setting the 'mathtext.fallback_to_cm' rcParam is deprecated since 3.3 and will be removed two minor releases later; use 'mathtext.fallback : 'cm' instead.\n",
      "In C:\\Users\\Administrator\\anaconda3\\envs\\pyvizenv\\lib\\site-packages\\matplotlib\\mpl-data\\stylelib\\_classic_test.mplstyle: \n",
      "The validate_bool_maybe_none function was deprecated in Matplotlib 3.3 and will be removed two minor releases later.\n",
      "In C:\\Users\\Administrator\\anaconda3\\envs\\pyvizenv\\lib\\site-packages\\matplotlib\\mpl-data\\stylelib\\_classic_test.mplstyle: \n",
      "The savefig.jpeg_quality rcparam was deprecated in Matplotlib 3.3 and will be removed two minor releases later.\n",
      "In C:\\Users\\Administrator\\anaconda3\\envs\\pyvizenv\\lib\\site-packages\\matplotlib\\mpl-data\\stylelib\\_classic_test.mplstyle: \n",
      "The keymap.all_axes rcparam was deprecated in Matplotlib 3.3 and will be removed two minor releases later.\n",
      "In C:\\Users\\Administrator\\anaconda3\\envs\\pyvizenv\\lib\\site-packages\\matplotlib\\mpl-data\\stylelib\\_classic_test.mplstyle: \n",
      "The animation.avconv_path rcparam was deprecated in Matplotlib 3.3 and will be removed two minor releases later.\n",
      "In C:\\Users\\Administrator\\anaconda3\\envs\\pyvizenv\\lib\\site-packages\\matplotlib\\mpl-data\\stylelib\\_classic_test.mplstyle: \n",
      "The animation.avconv_args rcparam was deprecated in Matplotlib 3.3 and will be removed two minor releases later.\n"
     ]
    }
   ],
   "source": [
    "# Initial imports\n",
    "import os\n",
    "import pandas as pd\n",
    "from dotenv import load_dotenv\n",
    "import nltk as nltk\n",
    "nltk.download('vader_lexicon')\n",
    "from nltk.sentiment.vader import SentimentIntensityAnalyzer\n",
    "analyzer = SentimentIntensityAnalyzer()\n",
    "\n",
    "%matplotlib inline"
   ]
  },
  {
   "cell_type": "code",
   "execution_count": 3,
   "metadata": {},
   "outputs": [],
   "source": [
    "# Read your api key environment variable\n",
    "api_key = os.getenv(\"news_api\")"
   ]
  },
  {
   "cell_type": "code",
   "execution_count": 4,
   "metadata": {},
   "outputs": [],
   "source": [
    "# Create a newsapi client\n",
    "from newsapi import NewsApiClient\n",
    "\n",
    "newsapi = NewsApiClient(api_key=api_key)"
   ]
  },
  {
   "cell_type": "code",
   "execution_count": 5,
   "metadata": {},
   "outputs": [
    {
     "data": {
      "text/plain": [
       "{'status': 'ok',\n",
       " 'totalResults': 8388,\n",
       " 'articles': [{'source': {'id': 'the-verge', 'name': 'The Verge'},\n",
       "   'author': 'Justine Calma',\n",
       "   'title': 'Why fossil fuel companies see green in Bitcoin mining projects',\n",
       "   'description': 'ExxonMobil and other fossil fuel companies have turned to Bitcoin mining to address a gas problem. But their plans come with risks.',\n",
       "   'url': 'https://www.theverge.com/2022/5/4/23055761/exxonmobil-cryptomining-bitcoin-methane-gas',\n",
       "   'urlToImage': 'https://cdn.vox-cdn.com/thumbor/BZdljrBbt8tBl6oCCnckcDKqe6g=/0x90:4608x2503/fit-in/1200x630/cdn.vox-cdn.com/uploads/chorus_asset/file/23435975/1240300988.jpg',\n",
       "   'publishedAt': '2022-05-04T12:00:00Z',\n",
       "   'content': 'A Bitcoin mining site powered by otherwise lost gas from an oil well near Linden, Texas, on April 4th, 2022. | Photo by FRANCOIS PICARD/AFP via Getty Images\\r\\n\\n \\n\\n Of all the corporate climate hype fl… [+6544 chars]'},\n",
       "  {'source': {'id': 'the-verge', 'name': 'The Verge'},\n",
       "   'author': 'Jay Peters',\n",
       "   'title': 'Block and Blockstream are partnering with Tesla on an off-grid, solar-powered Bitcoin mine in Texas',\n",
       "   'description': 'Block and Blockstream are partnering with Tesla on an open-source, solar-powered Bitcoin mine, the companies announced Friday. Tesla’s 3.8-megawatt Solar PV array and its 12 megawatt-hour Megapack will power the facility, and construction has started on the p…',\n",
       "   'url': 'https://www.theverge.com/2022/4/8/23016553/block-blockstream-tesla-solar-bitcoin-mine-texas',\n",
       "   'urlToImage': 'https://cdn.vox-cdn.com/thumbor/OYrvaaOHBuEpdTeRO55nZnZdexs=/0x215:3000x1786/fit-in/1200x630/cdn.vox-cdn.com/uploads/chorus_asset/file/8937281/acastro_170726_1777_0007_v2.jpg',\n",
       "   'publishedAt': '2022-04-08T16:02:52Z',\n",
       "   'content': 'Its set to open later this year\\r\\nIf you buy something from a Verge link, Vox Media may earn a commission. See our ethics statement.\\r\\nIllustration by Alex Castro / The Verge\\r\\nBlock and Blockstream, a … [+1336 chars]'},\n",
       "  {'source': {'id': 'engadget', 'name': 'Engadget'},\n",
       "   'author': 'Mariella Moon',\n",
       "   'title': 'Wikipedia editors vote to block cryptocurrency donations',\n",
       "   'description': \"Wikipedia editors have voted in favor of dropping cryptocurrency from the Wikimedia Foundation's donation options. As Ars Technica reports, an editor for the online encyclopedia called GorillaWarfare wrote a proposal for the foundation to stop accepting crypt…\",\n",
       "   'url': 'https://www.engadget.com/wikipedia-editors-vote-to-block-cryptocurrency-donations-113549175.html',\n",
       "   'urlToImage': 'https://s.yimg.com/os/creatr-uploaded-images/2021-07/9f595ce0-de17-11eb-bef2-e1b1456d84ae',\n",
       "   'publishedAt': '2022-04-14T11:35:49Z',\n",
       "   'content': \"Wikipedia editors have voted in favor of dropping cryptocurrency from the Wikimedia Foundation's donation options. As Ars Technica reports, an editor for the online encyclopedia called GorillaWarfare… [+1577 chars]\"},\n",
       "  {'source': {'id': None, 'name': 'Gizmodo.com'},\n",
       "   'author': 'Matt Novak',\n",
       "   'title': \"Warren Buffett Says He Wouldn't Take All the Bitcoin in the World for $25\",\n",
       "   'description': 'Warren Buffett has always been a bitcoin skeptic. But the billionaire investor had his most harsh words yet for the cryptocurrency over the weekend. Buffett made it clear that his opposition to crypto has nothing to do with whether people can make money tradi…',\n",
       "   'url': 'https://gizmodo.com/warren-buffett-all-bitcoin-world-25-dollars-assets-valu-1848866967',\n",
       "   'urlToImage': 'https://i.kinja-img.com/gawker-media/image/upload/c_fill,f_auto,fl_progressive,g_center,h_675,pg_1,q_80,w_1200/bbc389f90510758bf8f4131a7e2cbacd.png',\n",
       "   'publishedAt': '2022-05-02T11:30:00Z',\n",
       "   'content': 'Warren Buffett has always been a bitcoin skeptic. But the billionaire investor had his most harsh words yet for the cryptocurrency over the weekend. Buffett made it clear that his opposition to crypt… [+2297 chars]'},\n",
       "  {'source': {'id': None, 'name': 'Gizmodo.com'},\n",
       "   'author': 'Lauren Leffer',\n",
       "   'title': 'Fidelity Wants to Include Bitcoin in 401(k) Plans; Elizabeth Warren and the Labor Department Have Concerns',\n",
       "   'description': \"The nation's largest retirement plan provider is getting pushback for allowing investors to put a portion of their savings into cryptocurrency.\",\n",
       "   'url': 'https://gizmodo.com/fidelity-wants-bitcoin-added-to-401-k-retirement-plans-1848885502',\n",
       "   'urlToImage': 'https://i.kinja-img.com/gawker-media/image/upload/c_fill,f_auto,fl_progressive,g_center,h_675,pg_1,q_80,w_1200/2413ade0375c0f5b3affe4029f35315c.jpg',\n",
       "   'publishedAt': '2022-05-05T18:10:00Z',\n",
       "   'content': 'If youve ever felt like introducing some Vegas-style odds into your retirement plan, youre finally in luck.\\r\\nLast week, Fidelity Investments announced that it would allow investors to put part of the… [+3239 chars]'},\n",
       "  {'source': {'id': 'engadget', 'name': 'Engadget'},\n",
       "   'author': 'Jon Fingas',\n",
       "   'title': 'US Treasury issues first-ever sanctions against a cryptocurrency mixer',\n",
       "   'description': 'Cryptocurrency mixers are sometimes used to help online criminals launder their stolen money by hiding its true origins, and the US Treasury is now ready to clamp down on them when hostile governments are involved. The department has issued its first sanction…',\n",
       "   'url': 'https://www.engadget.com/us-treasury-sanctions-virtual-currency-mixer-north-korea-203502517.html',\n",
       "   'urlToImage': 'https://s.yimg.com/os/creatr-uploaded-images/2021-11/0db21000-4246-11ec-a8de-edfca39c0e00',\n",
       "   'publishedAt': '2022-05-06T20:35:02Z',\n",
       "   'content': 'Cryptocurrency mixers are sometimes used to help online criminals launder their stolen money by hiding its true origins, and the US Treasury is now ready to clamp down on them when hostile government… [+1432 chars]'},\n",
       "  {'source': {'id': 'reuters', 'name': 'Reuters'},\n",
       "   'author': None,\n",
       "   'title': 'Cryptoverse: 10 billion reasons bitcoin could become a reserve currency - Reuters',\n",
       "   'description': 'A crypto platform\\'s pledge to amass $10 billion worth of bitcoin to back its own \"stablecoin\" is firing up the market. It\\'s part of a wider movement to crown bitcoin as the reserve currency of a new age.',\n",
       "   'url': 'https://www.reuters.com/business/cryptoverse-10-billion-reasons-bitcoin-could-become-reserve-currency-2022-04-12/',\n",
       "   'urlToImage': 'https://www.reuters.com/resizer/sJekSAyVZew4r9prtuVAPUET5ws=/1200x628/smart/filters:quality(80)/cloudfront-us-east-2.images.arcpublishing.com/reuters/O2SCLFEKTZPMLESUYUADTUAGOQ.jpg',\n",
       "   'publishedAt': '2022-04-12T05:15:00Z',\n",
       "   'content': 'April 12 (Reuters) - A crypto platform\\'s pledge to amass $10 billion worth of bitcoin to back its own \"stablecoin\" is firing up the market. It\\'s part of a wider movement to crown bitcoin as the reser… [+5660 chars]'},\n",
       "  {'source': {'id': 'business-insider', 'name': 'Business Insider'},\n",
       "   'author': 'insider@insider.com (Adriana Nunez)',\n",
       "   'title': 'Block aims to simplify Bitcoin investing with new Cash App services',\n",
       "   'description': \"Block's Jack Dorsey announced three new services at the Bitcoin 2022 conference aimed at streamlining Bitcoin investing and purchasing.\",\n",
       "   'url': 'https://www.businessinsider.com/block-announces-three-cash-app-services-to-ease-bitcoin-investing-2022-4',\n",
       "   'urlToImage': 'https://i.insider.com/62542f5ba2956a0018d7e86d?width=1200&format=jpeg',\n",
       "   'publishedAt': '2022-04-11T13:27:59Z',\n",
       "   'content': 'The news:\\xa0Block\\xa0CEO Jack Dorsey announced three new \\r\\nCash App services at the Bitcoin 2022 conference on Thursday, per CoinDesk.\\r\\nInsider Intelligence\\r\\n\"Paid in Bitcoin\" lets Cash App users auto-inv… [+2872 chars]'},\n",
       "  {'source': {'id': 'ars-technica', 'name': 'Ars Technica'},\n",
       "   'author': 'Timothy B. Lee',\n",
       "   'title': 'Wikipedia community votes to stop accepting cryptocurrency donations',\n",
       "   'description': 'Critics argue the bitcoin and ethereum networks consume too much energy.',\n",
       "   'url': 'https://arstechnica.com/tech-policy/2022/04/wikipedia-community-votes-to-stop-accepting-cryptocurrency-donations/',\n",
       "   'urlToImage': 'https://cdn.arstechnica.net/wp-content/uploads/2022/04/GettyImages-922703938-760x380.jpg',\n",
       "   'publishedAt': '2022-04-13T16:35:03Z',\n",
       "   'content': '18 with 15 posters participating, including story author\\r\\nMore than 200 long-time Wikipedia editors have requested that the Wikimedia Foundation stop accepting cryptocurrency donations.\\xa0The foundatio… [+4016 chars]'},\n",
       "  {'source': {'id': 'reuters', 'name': 'Reuters'},\n",
       "   'author': None,\n",
       "   'title': 'Bitcoin last down 5.1% at $38391.36 - Reuters.com',\n",
       "   'description': 'Bitcoin dropped 5.1% to $38,391.36 on Tuesday, down $2,229.82 from its previous close.',\n",
       "   'url': 'https://www.reuters.com/technology/bitcoin-last-down-51-3839136-2022-04-26/',\n",
       "   'urlToImage': 'https://www.reuters.com/resizer/Gp-bLvBDv3-2g6-hsKYIWV0KicU=/1200x628/smart/filters:quality(80)/cloudfront-us-east-2.images.arcpublishing.com/reuters/BT3DV4I6BJNQBL3JI4HWYNGSYQ.jpg',\n",
       "   'publishedAt': '2022-04-26T20:22:00Z',\n",
       "   'content': \"April 26 (Reuters) - Bitcoin dropped 5.1% to $38,391.36 on Tuesday, down $2,229.82 from its previous close.\\r\\nBitcoin, the world's biggest and best-known cryptocurrency, is up 16% from the year's low … [+339 chars]\"},\n",
       "  {'source': {'id': 'reuters', 'name': 'Reuters'},\n",
       "   'author': None,\n",
       "   'title': 'Bitcoin last up 5.7% at $39862.84 - Reuters.com',\n",
       "   'description': 'Bitcoin rose 5.7% to $39,862.84, on Wednesday, adding $2,102.94 to its previous close.',\n",
       "   'url': 'https://www.reuters.com/business/bitcoin-last-up-57-3986284-2022-05-04/',\n",
       "   'urlToImage': 'https://www.reuters.com/resizer/BWWUiBev3PUU7DomJJXE2-Iqz30=/1200x628/smart/filters:quality(80)/cloudfront-us-east-2.images.arcpublishing.com/reuters/OZ6CVP422VIJ5A6UACI72VHUSY.jpg',\n",
       "   'publishedAt': '2022-05-04T20:16:00Z',\n",
       "   'content': \"May 4 (Reuters) - Bitcoin rose 5.7% to $39,862.84, on Wednesday, adding $2,102.94 to its previous close.\\r\\nBitcoin, the world's biggest and best-known cryptocurrency, is up 20.9% from the year's low o… [+337 chars]\"},\n",
       "  {'source': {'id': None, 'name': 'Gizmodo.com'},\n",
       "   'author': 'Kevin Hurler',\n",
       "   'title': 'You Can Now Go See Fantastic Beasts With Dogecoin at AMC Theaters',\n",
       "   'description': 'Dogecoiners unite! Movie theater chain AMC has welcomed some more cryptocurrencies as payment options for online and mobile purchases. In a tweet on April 15, AMC CEO Adam Aron announced that moviegoers can now pay for movie tickets and concessions using Doge…',\n",
       "   'url': 'https://gizmodo.com/you-can-now-go-see-fantastic-beasts-with-dogecoin-at-am-1848805758',\n",
       "   'urlToImage': 'https://i.kinja-img.com/gawker-media/image/upload/c_fill,f_auto,fl_progressive,g_center,h_675,pg_1,q_80,w_1200/9c1a5c315585258a257319589a2c2bf5.jpg',\n",
       "   'publishedAt': '2022-04-18T20:30:00Z',\n",
       "   'content': 'Dogecoiners unite! Movie theater chain AMC has welcomed some more cryptocurrencies as payment options for online and mobile purchases. In a tweet on April 15, AMC CEO Adam Aron announced that moviego… [+1603 chars]'},\n",
       "  {'source': {'id': 'engadget', 'name': 'Engadget'},\n",
       "   'author': 'Mariella Moon',\n",
       "   'title': \"Opera's crypto browser is now available on iOS\",\n",
       "   'description': 'Opera launched its dedicated \"Crypto Browser\" into beta back in January, promising to make Web3 as accessible as any Web2 website. The company released the browser for Windows, Mac and Android users back then, but the version for iOS devices still wasn\\'t read…',\n",
       "   'url': 'https://www.engadget.com/operas-crypto-browser-ios-113713720.html',\n",
       "   'urlToImage': 'https://s.yimg.com/os/creatr-uploaded-images/2022-04/d7564890-bca3-11ec-b7ff-a905e1f2a795',\n",
       "   'publishedAt': '2022-04-15T11:37:13Z',\n",
       "   'content': 'Opera launched its dedicated \"Crypto Browser\" into beta back in January, promising to make Web3 as accessible as any Web2 website. The company released the browser for Windows, Mac and Android users … [+1563 chars]'},\n",
       "  {'source': {'id': None, 'name': 'CNET'},\n",
       "   'author': 'Kourtnee Jackson',\n",
       "   'title': 'Central African Republic Passes Bill to Make Bitcoin Legal Tender - CNET',\n",
       "   'description': 'The nation is the second in line to make bitcoin a form of legal payment.',\n",
       "   'url': 'https://www.cnet.com/personal-finance/crypto/central-african-republic-passes-bill-to-make-bitcoin-legal-tender/',\n",
       "   'urlToImage': 'https://www.cnet.com/a/img/resize/254465c78aa125dceeb1d745c522cdd52ce7f7b1/2022/04/22/5e2b33a9-9ee6-400b-a99e-21bd935e2912/bitcoin-crypto-logo-2022-614.jpg?auto=webp&fit=crop&height=630&width=1200',\n",
       "   'publishedAt': '2022-04-27T15:44:58Z',\n",
       "   'content': \"The Central African Republic has adopted bitcoin as legal tender, making it the second nation in the world -- after El Salvador -- to do so. On Wednesday, President Faustin Archange Touadera's office… [+1078 chars]\"},\n",
       "  {'source': {'id': None, 'name': 'Crunchhype.com'},\n",
       "   'author': 'noreply@blogger.com (Unknown)',\n",
       "   'title': 'What is Blockchain: Everything You Need to Know (2022)',\n",
       "   'description': \"<table><tr><td></td></tr><tr><td></td></tr>\\r\\n</table>If you want to pay online, you need to register an account and provide credit card information. If you don't have a credit card, you can pay with bank transfer. With the rise of cryptocurrencies, these meth…\",\n",
       "   'url': 'https://www.crunchhype.com/2022/04/what-is-blockchain-everything-you-need.html',\n",
       "   'urlToImage': 'https://blogger.googleusercontent.com/img/b/R29vZ2xl/AVvXsEhGSmMnm7rS8T3FdymStVEU4Vzq6neAfiH-HWZEh_NyxTReup8XF0S0N2hYBTI4xHAyV1-mWUv2CI-7PohYUMPpCIzoUm7GloDeFVR_-cquCFWMPp8vGgnG7TSsy6XPf9Gs-lG1lAWskhHGhc_2x7I5Y-psklBHqgNZQOPkcwqTNio0SXAUX5-hyRopZg/w1600/Most%20Frequently%20Asked%20Questions%20About%20Email%20Marketing.png',\n",
       "   'publishedAt': '2022-04-18T05:49:00Z',\n",
       "   'content': \"If you want to pay online, you need to register an account and provide credit card information. If you don't have a credit card, you can pay with bank transfer. With the rise of cryptocurrencies, the… [+8836 chars]\"},\n",
       "  {'source': {'id': 'reuters', 'name': 'Reuters'},\n",
       "   'author': None,\n",
       "   'title': 'Block swings to quarterly loss as bitcoin boost fades - Reuters.com',\n",
       "   'description': 'Block Inc <a href=\"https://www.reuters.com/companies/SQ.N\" target=\"_blank\">(SQ.N)</a>, the payments company led by Jack Dorsey, on Thursday reported a loss for the first quarter as demand for bitcoin softened due to a decline in cryptocurrency prices.',\n",
       "   'url': 'https://www.reuters.com/technology/block-swings-quarterly-loss-bitcoin-boost-fades-2022-05-05/',\n",
       "   'urlToImage': 'https://www.reuters.com/resizer/BWWUiBev3PUU7DomJJXE2-Iqz30=/1200x628/smart/filters:quality(80)/cloudfront-us-east-2.images.arcpublishing.com/reuters/OZ6CVP422VIJ5A6UACI72VHUSY.jpg',\n",
       "   'publishedAt': '2022-05-05T20:18:00Z',\n",
       "   'content': 'May 5 (Reuters) - Block Inc (SQ.N), the payments company led by Jack Dorsey, on Thursday reported a loss for the first quarter as demand for bitcoin softened due to a decline in cryptocurrency prices… [+635 chars]'},\n",
       "  {'source': {'id': 'reuters', 'name': 'Reuters'},\n",
       "   'author': None,\n",
       "   'title': 'Swiss National Bank opposed to holding bitcoin as a reserve currency - Reuters',\n",
       "   'description': \"The Swiss National Bank is against buying and holding bitcoin as a reserve currency, Chairman Thomas Jordan said at the central bank's annual general meeting on Friday.\",\n",
       "   'url': 'https://www.reuters.com/business/finance/swiss-national-bank-opposed-holding-bitcoin-reserve-currency-2022-04-29/',\n",
       "   'urlToImage': 'https://www.reuters.com/resizer/TekDiFrf7I8nK01TXJycbJalJto=/1200x628/smart/filters:quality(80)/cloudfront-us-east-2.images.arcpublishing.com/reuters/K6HZSML74ZJVTMTU7LWUZAYJPA.jpg',\n",
       "   'publishedAt': '2022-04-29T11:54:00Z',\n",
       "   'content': \"ZURICH, April 29 (Reuters) - The Swiss National Bank is against buying and holding bitcoin as a reserve currency, Chairman Thomas Jordan said at the central bank's annual general meeting on Friday.\\r\\n… [+1882 chars]\"},\n",
       "  {'source': {'id': 'reuters', 'name': 'Reuters'},\n",
       "   'author': None,\n",
       "   'title': 'Honduran special economic zone adopts bitcoin as legal tender - Reuters',\n",
       "   'description': \"A special economic zone on a tourist-centric island on Honduras' Caribbean coast has adopted bitcoin and other cryptocurrencies as legal tender, officials of the zone said on Thursday.\",\n",
       "   'url': 'https://www.reuters.com/world/americas/honduran-special-economic-zone-adopts-bitcoin-legal-tender-2022-04-07/',\n",
       "   'urlToImage': 'https://www.reuters.com/resizer/aZbDTblfA7PvYaZb68U0gy-DZRk=/1200x628/smart/filters:quality(80)/cloudfront-us-east-2.images.arcpublishing.com/reuters/CVNYPY5GUFPSXFBBXXBK6YLC4U.jpg',\n",
       "   'publishedAt': '2022-04-07T21:57:00Z',\n",
       "   'content': \"TEGUCIGALPA, April 7 (Reuters) - A special economic zone on a tourist-centric island on Honduras' Caribbean coast has adopted bitcoin and other cryptocurrencies as legal tender, officials of the zone… [+1363 chars]\"},\n",
       "  {'source': {'id': 'reuters', 'name': 'Reuters'},\n",
       "   'author': None,\n",
       "   'title': 'Analysis: Bitcoin adoption by Central African Republic baffles cryptoverse - Reuters.com',\n",
       "   'description': \"Central African Republic's adoption of bitcoin, while many of the world's largest economies stay wary of it, has puzzled the cryptocurrency world and residents of the gold and diamond-producing country, and prompted caution from the IMF.\",\n",
       "   'url': 'https://www.reuters.com/world/africa/bitcoin-adoption-by-central-african-republic-baffles-cryptoverse-2022-04-28/',\n",
       "   'urlToImage': 'https://www.reuters.com/resizer/sBWUvemJW0ryqtlCm2qpRiwhcus=/1200x628/smart/filters:quality(80)/cloudfront-us-east-2.images.arcpublishing.com/reuters/XW2TXYEQFZNPVKYUBO65KACFFU.jpg',\n",
       "   'publishedAt': '2022-04-28T16:58:00Z',\n",
       "   'content': \"BANGUI, April 28 (Reuters) - Central African Republic's adoption of bitcoin, while many of the world's largest economies stay wary of it, has puzzled the cryptocurrency world and residents of the gol… [+4218 chars]\"},\n",
       "  {'source': {'id': 'reuters', 'name': 'Reuters'},\n",
       "   'author': None,\n",
       "   'title': 'Central African Republic adopts bitcoin as an official currency - Reuters',\n",
       "   'description': 'Central African Republic has adopted bitcoin as an official currency, the presidency said on Wednesday, becoming the first country in Africa and only the second in the world to do so.',\n",
       "   'url': 'https://www.reuters.com/world/africa/central-african-republic-adopts-bitcoin-an-official-currency-2022-04-27/',\n",
       "   'urlToImage': 'https://www.reuters.com/resizer/hQUFyg89hsElzlhGfkPIvaoHxbY=/1200x628/smart/filters:quality(80)/cloudfront-us-east-2.images.arcpublishing.com/reuters/IB36Y4ZKDRLJNA3LRDQAHS7UGM.jpg',\n",
       "   'publishedAt': '2022-04-27T18:03:00Z',\n",
       "   'content': 'BANGUI, April 27 (Reuters) - Central African Republic has adopted bitcoin as an official currency, the presidency said on Wednesday, becoming the first country in Africa and only the second in the wo… [+2211 chars]'}]}"
      ]
     },
     "execution_count": 5,
     "metadata": {},
     "output_type": "execute_result"
    }
   ],
   "source": [
    "# Fetch the Bitcoin news articles\n",
    "Bitcoin_news = newsapi.get_everything(q=\"Bitcoin\", language=\"en\")\n",
    "Bitcoin_news"
   ]
  },
  {
   "cell_type": "code",
   "execution_count": 6,
   "metadata": {},
   "outputs": [
    {
     "data": {
      "text/plain": [
       "{'status': 'ok',\n",
       " 'totalResults': 4611,\n",
       " 'articles': [{'source': {'id': 'the-verge', 'name': 'The Verge'},\n",
       "   'author': 'Emma Roth',\n",
       "   'title': 'US blames North Korean hacker group for $625 million Axie Infinity theft',\n",
       "   'description': 'The US Department of Treasury has attributed the $625 Axie Infinity theft to Lazarus, a North Korean hacking group with ties to the country’s intelligence agency.',\n",
       "   'url': 'https://www.theverge.com/2022/4/14/23025739/north-korean-hacker-lazarus-axie-infinity-cryptocurrency-hack-theft-us-blames',\n",
       "   'urlToImage': 'https://cdn.vox-cdn.com/thumbor/n8TGCqcud7UHPIbtgxLi10Owa5I=/0x52:1018x585/fit-in/1200x630/cdn.vox-cdn.com/uploads/chorus_asset/file/23374959/Screen_Shot_2022_03_30_at_10.10.00_AM.png',\n",
       "   'publishedAt': '2022-04-14T21:43:57Z',\n",
       "   'content': 'The US Department of Treasury says Lazarus is behind the attack\\r\\nThe US Treasury Department blames North Korean hacking group Lazarus for stealing $625 million in cryptocurrency from the Ronin networ… [+1853 chars]'},\n",
       "  {'source': {'id': 'ars-technica', 'name': 'Ars Technica'},\n",
       "   'author': 'Timothy B. Lee',\n",
       "   'title': 'Wikipedia community votes to stop accepting cryptocurrency donations',\n",
       "   'description': 'Critics argue the bitcoin and ethereum networks consume too much energy.',\n",
       "   'url': 'https://arstechnica.com/tech-policy/2022/04/wikipedia-community-votes-to-stop-accepting-cryptocurrency-donations/',\n",
       "   'urlToImage': 'https://cdn.arstechnica.net/wp-content/uploads/2022/04/GettyImages-922703938-760x380.jpg',\n",
       "   'publishedAt': '2022-04-13T16:35:03Z',\n",
       "   'content': '18 with 15 posters participating, including story author\\r\\nMore than 200 long-time Wikipedia editors have requested that the Wikimedia Foundation stop accepting cryptocurrency donations.\\xa0The foundatio… [+4016 chars]'},\n",
       "  {'source': {'id': 'engadget', 'name': 'Engadget'},\n",
       "   'author': 'Mariella Moon',\n",
       "   'title': \"Opera's crypto browser is now available on iOS\",\n",
       "   'description': 'Opera launched its dedicated \"Crypto Browser\" into beta back in January, promising to make Web3 as accessible as any Web2 website. The company released the browser for Windows, Mac and Android users back then, but the version for iOS devices still wasn\\'t read…',\n",
       "   'url': 'https://www.engadget.com/operas-crypto-browser-ios-113713720.html',\n",
       "   'urlToImage': 'https://s.yimg.com/os/creatr-uploaded-images/2022-04/d7564890-bca3-11ec-b7ff-a905e1f2a795',\n",
       "   'publishedAt': '2022-04-15T11:37:13Z',\n",
       "   'content': 'Opera launched its dedicated \"Crypto Browser\" into beta back in January, promising to make Web3 as accessible as any Web2 website. The company released the browser for Windows, Mac and Android users … [+1563 chars]'},\n",
       "  {'source': {'id': None, 'name': 'The Guardian'},\n",
       "   'author': 'Alex Hern',\n",
       "   'title': 'Yuga Labs apologises after sale of virtual land crashes Ethereum',\n",
       "   'description': 'Demand for plots of land in multiplayer game Otherside was so high it overwhelmed the Ethereum blockchainA multi-billion dollar cryptocurrency company has apologised to users after its sale of “metaverse land” sparked a frenzy that temporarily brought down th…',\n",
       "   'url': 'https://amp.theguardian.com/technology/2022/may/02/yuga-labs-apologises-after-sale-of-virtual-land-crashes-ethereum',\n",
       "   'urlToImage': 'https://i.guim.co.uk/img/media/e6382b02449503a6456ab870dbc394d5752212ad/0_117_3500_2101/master/3500.jpg?width=1200&height=630&quality=85&auto=format&fit=crop&overlay-align=bottom%2Cleft&overlay-width=100p&overlay-base64=L2ltZy9zdGF0aWMvb3ZlcmxheXMvdGctZGVmYXVsdC5wbmc&enable=upscale&s=c33681237b4c480f24dfa73e196af8af',\n",
       "   'publishedAt': '2022-05-02T15:54:35Z',\n",
       "   'content': 'A multi-billion dollar cryptocurrency company has apologised to users after its sale of metaverse land sparked a frenzy that temporarily brought down the Ethereum cryptocurrency.\\r\\nYuga Labs, the comp… [+3475 chars]'},\n",
       "  {'source': {'id': None, 'name': 'CNET'},\n",
       "   'author': 'Daniel Van Boom',\n",
       "   'title': 'How Bored Ape Yacht Club Broke Ethereum - CNET',\n",
       "   'description': 'Transactions stalled for hours, and people paid thousands in fees whether their purchase succeeded or not.',\n",
       "   'url': 'https://www.cnet.com/personal-finance/crypto/how-bored-ape-yacht-club-broke-ethereum/',\n",
       "   'urlToImage': 'https://www.cnet.com/a/img/resize/ec8610207cf749f84654799866cb67699ac91a6d/2022/05/01/9c9ba1e1-519b-4e61-a12a-f3faa5d2f1a0/otherside-launch-image-rc1.jpg?auto=webp&fit=crop&height=630&width=1200',\n",
       "   'publishedAt': '2022-05-04T02:32:00Z',\n",
       "   'content': 'When Bored Ape Yacht Club creators Yuga Labs announced its Otherside NFT collection would launch on April 30, it was predicted by many to be the biggest NFT launch ever. Otherside is an upcoming Bore… [+6669 chars]'},\n",
       "  {'source': {'id': 'business-insider', 'name': 'Business Insider'},\n",
       "   'author': 'insider@insider.com (Will Paige)',\n",
       "   'title': 'Jailed US Ethereum developer sets example for those using crypto to dodge sanctions',\n",
       "   'description': 'An Ethereum developer was sentenced to more than five years in prison and fined $100,000 for helping North Korea use cryptos to evade US sanctions.',\n",
       "   'url': 'https://www.businessinsider.com/ethereum-developer-sentenced-for-helping-north-korea-evade-sanctions-2022-4',\n",
       "   'urlToImage': 'https://i.insider.com/62582f888b169c0018f36bc0?width=1200&format=jpeg',\n",
       "   'publishedAt': '2022-04-14T14:31:18Z',\n",
       "   'content': 'The news:\\xa0A former developer of the cryptocurrency Ethereum was sentenced to more than five years in prison and fined $100,000 for\\xa0helping North Korea use cryptos to evade US sanctions,\\xa0per NBC News.… [+2438 chars]'},\n",
       "  {'source': {'id': 'reuters', 'name': 'Reuters'},\n",
       "   'author': None,\n",
       "   'title': \"Cryptoverse: Ether prepares for epic 'merge' in quest to eclipse bitcoin - Reuters.com\",\n",
       "   'description': \"Ether has promised to do better. It has promised to go to the next level, edging out crypto rivals and even outshining the godfather, bitcoin. But the clock's ticking.\",\n",
       "   'url': 'https://www.reuters.com/business/cryptoverse-ether-prepares-epic-merge-quest-eclipse-bitcoin-2022-04-26/',\n",
       "   'urlToImage': 'https://www.reuters.com/resizer/Xpd4XRkm7eEYPo9_LKBQhpcDyBo=/1200x628/smart/filters:quality(80)/cloudfront-us-east-2.images.arcpublishing.com/reuters/PKJQY4TBEVMRZNVN3OPZ7XHXLY.jpg',\n",
       "   'publishedAt': '2022-04-26T05:15:00Z',\n",
       "   'content': \"April 26 (Reuters) - Ether has promised to do better. It has promised to go to the next level, edging out crypto rivals and even outshining the godfather, bitcoin. But the clock's ticking.\\r\\nThe No.2 … [+4092 chars]\"},\n",
       "  {'source': {'id': 'the-next-web', 'name': 'The Next Web'},\n",
       "   'author': 'Thomas Macaulay',\n",
       "   'title': 'What is the Ethereum merge and how could it make crypto greener?',\n",
       "   'description': 'Ethereum is preparing for an upgrade that’s been described as “the single most important event in crypto history.” The transition would overhaul the infrastructure of the world’s second-largest blockchain. Analysts predict the changes could cut the network’s …',\n",
       "   'url': 'https://thenextweb.com/news/what-is-ethereum-merge-when-will-it-happen-how-will-it-make-crypto-greener',\n",
       "   'urlToImage': 'https://img-cdn.tnwcdn.com/image/hardfork?filter_last=1&fit=1280%2C640&url=https%3A%2F%2Fcdn0.tnwcdn.com%2Fwp-content%2Fblogs.dir%2F1%2Ffiles%2F2022%2F04%2FUntitled-design-2-5.jpg&signature=616dbebe0be728ef3c201fb0415eaee8',\n",
       "   'publishedAt': '2022-04-26T20:45:44Z',\n",
       "   'content': 'Ethereum is preparing for an upgrade thats been described as the single most important event in crypto history.\\r\\nThe transition would overhaul the infrastructure of the worlds second-largest blockcha… [+2824 chars]'},\n",
       "  {'source': {'id': None, 'name': 'Lifehacker.com'},\n",
       "   'author': 'Pranay Parab',\n",
       "   'title': 'Change These Settings to Make the Brave Browser Even More Private',\n",
       "   'description': 'The Brave Browser promotes itself as a Google Chrome alternative focused on privacy, but its default settings aren’t the most privacy friendly. If you need to use a Chrome-based browser, Brave is definitely a better option than what Google offers, but with a …',\n",
       "   'url': 'https://lifehacker.com/change-these-settings-to-make-the-brave-browser-even-mo-1848763348',\n",
       "   'urlToImage': 'https://i.kinja-img.com/gawker-media/image/upload/c_fill,f_auto,fl_progressive,g_center,h_675,pg_1,q_80,w_1200/01381a080c579630dc5b17666ef95eef.jpg',\n",
       "   'publishedAt': '2022-04-07T18:30:00Z',\n",
       "   'content': 'The Brave Browser promotes itself as a Google Chrome alternative focused on privacy, but its default settings arent the most privacy friendly. If you need to use a Chrome-based browser, Brave is defi… [+3493 chars]'},\n",
       "  {'source': {'id': None, 'name': 'Gizmodo.com'},\n",
       "   'author': 'Kevin Hurler',\n",
       "   'title': 'You Can Now Go See Fantastic Beasts With Dogecoin at AMC Theaters',\n",
       "   'description': 'Dogecoiners unite! Movie theater chain AMC has welcomed some more cryptocurrencies as payment options for online and mobile purchases. In a tweet on April 15, AMC CEO Adam Aron announced that moviegoers can now pay for movie tickets and concessions using Doge…',\n",
       "   'url': 'https://gizmodo.com/you-can-now-go-see-fantastic-beasts-with-dogecoin-at-am-1848805758',\n",
       "   'urlToImage': 'https://i.kinja-img.com/gawker-media/image/upload/c_fill,f_auto,fl_progressive,g_center,h_675,pg_1,q_80,w_1200/9c1a5c315585258a257319589a2c2bf5.jpg',\n",
       "   'publishedAt': '2022-04-18T20:30:00Z',\n",
       "   'content': 'Dogecoiners unite! Movie theater chain AMC has welcomed some more cryptocurrencies as payment options for online and mobile purchases. In a tweet on April 15, AMC CEO Adam Aron announced that moviego… [+1603 chars]'},\n",
       "  {'source': {'id': None, 'name': 'Slashdot.org'},\n",
       "   'author': 'EditorDavid',\n",
       "   'title': \"Sale of Bored Apes' Metaverse Land Made Gas Fees Skyrocket Past $3,000\",\n",
       "   'description': 'There\\'s a new metaverse project from the creators of the \"Bored Apes Yacht Club\" NFTs. Last night they held a \"virtual land\" sale, reports Bloomberg, raising nearly a third of a billion dollars. \\nAt about the same time, Mashable :\\n\\nIf you were trying to compl…',\n",
       "   'url': 'https://tech.slashdot.org/story/22/05/01/2256252/sale-of-bored-apes-metaverse-land-made-gas-fees-skyrocket-past-3000',\n",
       "   'urlToImage': 'https://a.fsdn.com/sd/topics/social_64.png',\n",
       "   'publishedAt': '2022-05-01T22:59:00Z',\n",
       "   'content': 'There\\'s a new metaverse project from the creators of the \"Bored Apes Yacht Club\" NFTs. Last night they held a \"virtual land\" sale, reports Bloomberg, raising nearly a third of a billion dollars.At ab… [+2023 chars]'},\n",
       "  {'source': {'id': 'wired', 'name': 'Wired'},\n",
       "   'author': 'Lily Hay Newman',\n",
       "   'title': \"North Korea's Lazarus Group Was Behind $540 Million Ronin Theft\",\n",
       "   'description': 'Plus: Spyware maker NSO Group deemed “valueless,” T-Mobile fails to buy its stolen data, and malware spreads on Telegram.',\n",
       "   'url': 'https://www.wired.com/story/ronin-hack-lazarus-tmobile-breach-data-malware-telegram/',\n",
       "   'urlToImage': 'https://media.wired.com/photos/6259f5df0f68d976e2565a8a/191:100/w_1280,c_limit/security-roundup-nk.jpg',\n",
       "   'publishedAt': '2022-04-16T13:00:00Z',\n",
       "   'content': \"Early this week, the Ukrainian Computer Emergency Response Team and Slovakian cybersecurity firm ESET warned that Russia's notorious GRU Sandworm hackers had targeted high-voltage electrical substati… [+3937 chars]\"},\n",
       "  {'source': {'id': 'time', 'name': 'Time'},\n",
       "   'author': 'David Pan/Bloomberg',\n",
       "   'title': 'Ethereum Takes Another Step Towards a Highly-Anticipated Upgrade',\n",
       "   'description': 'The network’s developers had launched a stress test for the new upcoming software. Some Ethereum miners are betting on another delay.',\n",
       "   'url': 'https://time.com/6166507/ethereum-merge-upgrade/',\n",
       "   'urlToImage': 'https://api.time.com/wp-content/uploads/2022/04/ethereum-upgrade-later-than-june-2.jpg?quality=85&w=1200&h=628&crop=1',\n",
       "   'publishedAt': '2022-04-13T20:35:03Z',\n",
       "   'content': 'One of the leading Ethereum software developers said the blockchain network’s much-anticipated technical upgrade known as the Merge will likely be completed a few months after June.\\r\\nThe comment help… [+1965 chars]'},\n",
       "  {'source': {'id': None, 'name': 'Dshr.org'},\n",
       "   'author': 'David.',\n",
       "   'title': 'Ethereum Has Issues',\n",
       "   'description': 'I first wrote about the problem of bots front-running transactions a year and a half ago in The Order Flow , citing Dan Robinson and Georgio...',\n",
       "   'url': 'https://blog.dshr.org/2022/04/ethereum-has-issues.html',\n",
       "   'urlToImage': 'https://blogger.googleusercontent.com/img/b/R29vZ2xl/AVvXsEjvSCxRy5qtPS5sGBOpfX2Ar2RH9uWBqKNoHH3toPJx4YR6ttIqIL1DrxeRZsz8xWBkzYMCDX1XtWyX1G6SrQNJsjsmKpQgbYM3k3iyknfbZRX0b3g2xc9rnC7xBXs6H-ps04gYWqcD_wUTT6B-0XbP1NCV0pzVx7LOZsrcoU31X8paMbhHh5p0LNhr5Q/w1200-h630-p-k-no-nu/DaianFig11.png',\n",
       "   'publishedAt': '2022-04-14T16:46:48Z',\n",
       "   'content': \"I first wrote about the problem of bots front-running transactions a year and a half ago in The Order Flow, citing Dan Robinson and Georgios Konstantopoulos'\\r\\nEthereum is a Dark Forest from August 20… [+23406 chars]\"},\n",
       "  {'source': {'id': 'reuters', 'name': 'Reuters'},\n",
       "   'author': None,\n",
       "   'title': 'Bitcoin last down 5.1% at $38391.36 - Reuters.com',\n",
       "   'description': 'Bitcoin dropped 5.1% to $38,391.36 on Tuesday, down $2,229.82 from its previous close.',\n",
       "   'url': 'https://www.reuters.com/technology/bitcoin-last-down-51-3839136-2022-04-26/',\n",
       "   'urlToImage': 'https://www.reuters.com/resizer/Gp-bLvBDv3-2g6-hsKYIWV0KicU=/1200x628/smart/filters:quality(80)/cloudfront-us-east-2.images.arcpublishing.com/reuters/BT3DV4I6BJNQBL3JI4HWYNGSYQ.jpg',\n",
       "   'publishedAt': '2022-04-26T20:22:00Z',\n",
       "   'content': \"April 26 (Reuters) - Bitcoin dropped 5.1% to $38,391.36 on Tuesday, down $2,229.82 from its previous close.\\r\\nBitcoin, the world's biggest and best-known cryptocurrency, is up 16% from the year's low … [+339 chars]\"},\n",
       "  {'source': {'id': 'reuters', 'name': 'Reuters'},\n",
       "   'author': None,\n",
       "   'title': 'Bitcoin last up 5.7% at $39862.84 - Reuters.com',\n",
       "   'description': 'Bitcoin rose 5.7% to $39,862.84, on Wednesday, adding $2,102.94 to its previous close.',\n",
       "   'url': 'https://www.reuters.com/business/bitcoin-last-up-57-3986284-2022-05-04/',\n",
       "   'urlToImage': 'https://www.reuters.com/resizer/BWWUiBev3PUU7DomJJXE2-Iqz30=/1200x628/smart/filters:quality(80)/cloudfront-us-east-2.images.arcpublishing.com/reuters/OZ6CVP422VIJ5A6UACI72VHUSY.jpg',\n",
       "   'publishedAt': '2022-05-04T20:16:00Z',\n",
       "   'content': \"May 4 (Reuters) - Bitcoin rose 5.7% to $39,862.84, on Wednesday, adding $2,102.94 to its previous close.\\r\\nBitcoin, the world's biggest and best-known cryptocurrency, is up 20.9% from the year's low o… [+337 chars]\"},\n",
       "  {'source': {'id': 'the-next-web', 'name': 'The Next Web'},\n",
       "   'author': 'Ivan Mehta',\n",
       "   'title': 'How the BAYC metaverse mint raised Ethereum gas fees to thousands of dollars',\n",
       "   'description': 'If you ever wanted to buy an NFT based on Ethereum, you would have to pay a transaction fee to register it on the blockchain. Last week, that fee skyrocketed to unprecedented levels. So you might have had to pay thousands of dollars as fees to get an NFT that…',\n",
       "   'url': 'https://thenextweb.com/news/bayc-metaverse-otherside-mint-gas-fees-analysis',\n",
       "   'urlToImage': 'https://img-cdn.tnwcdn.com/image/hardfork?filter_last=1&fit=1280%2C640&url=https%3A%2F%2Fcdn0.tnwcdn.com%2Fwp-content%2Fblogs.dir%2F1%2Ffiles%2F2022%2F05%2FOtherside-nft.jpg&signature=a5fe37575e1fe4a83069c67eddf3dc7d',\n",
       "   'publishedAt': '2022-05-02T12:17:07Z',\n",
       "   'content': 'If you ever wanted to buy an NFT based on Ethereum, you would have to pay a transaction fee to register it on the blockchain. Last week, that fee skyrocketed to unprecedented levels.\\r\\nSo you might ha… [+7216 chars]'},\n",
       "  {'source': {'id': 'reuters', 'name': 'Reuters'},\n",
       "   'author': None,\n",
       "   'title': 'U.S. crypto researcher sentenced to five years for helping North Korea evade sanctions - Reuters',\n",
       "   'description': 'A former researcher at a high-profile cryptocurrency group was sentenced to five years and three months in prison on Tuesday for conspiring to help North Korea evade U.S. sanctions using cryptocurrency, federal prosecutors in Manhattan said.',\n",
       "   'url': 'https://www.reuters.com/world/us-crypto-researcher-sentenced-five-years-helping-north-korea-evade-sanctions-2022-04-12/',\n",
       "   'urlToImage': 'https://www.reuters.com/pf/resources/images/reuters/reuters-default.png?d=82',\n",
       "   'publishedAt': '2022-04-12T22:07:00Z',\n",
       "   'content': 'April 12 (Reuters) - A former researcher at a high-profile cryptocurrency group was sentenced to five years and three months in prison on Tuesday for conspiring to help North Korea evade U.S. sanctio… [+2083 chars]'},\n",
       "  {'source': {'id': None, 'name': 'Slashdot.org'},\n",
       "   'author': 'BeauHD',\n",
       "   'title': 'Robinhood Releases Crypto Wallet To 2 Million Users, Plans Integration With Bitcoin Lightning Network',\n",
       "   'description': 'Robinhood Markets (HOOD) said Thursday it has activated its crypto wallet for 2 million \"eligible\" customers, making digital asset transfers broadly possible in the long-firewalled investments app. CoinDesk reports: Chief Product Officer Aparna Chennapragada …',\n",
       "   'url': 'https://slashdot.org/story/22/04/07/2056240/robinhood-releases-crypto-wallet-to-2-million-users-plans-integration-with-bitcoin-lightning-network',\n",
       "   'urlToImage': 'https://a.fsdn.com/sd/topics/bitcoin_64.png',\n",
       "   'publishedAt': '2022-04-07T23:20:00Z',\n",
       "   'content': 'Chief Product Officer Aparna Chennapragada made the announcement on stage at the Bitcoin 2022 conference in Miami. Only a handful of wallet beta testers could move bitcoin (BTC), ether (ETH), dogecoi… [+1639 chars]'},\n",
       "  {'source': {'id': 'business-insider', 'name': 'Business Insider'},\n",
       "   'author': 'bevans@insider.com (Brian Evans)',\n",
       "   'title': \"ApeCoin dips 16% following Bored Ape Yacht Club creator's landmark metaverse NFT sale\",\n",
       "   'description': 'The skid follows a massive NFT sale from Bored Ape Yacht Club creator Yuga Labs for its metaverse game \"Otherside.\"',\n",
       "   'url': 'https://markets.businessinsider.com/news/currencies/apecoin-price-bored-ape-yacht-club-yuga-labs-metaverse-sale-2022-5',\n",
       "   'urlToImage': 'https://i.insider.com/622f3dd2843ef30018e6ddab?width=1200&format=jpeg',\n",
       "   'publishedAt': '2022-05-02T19:03:32Z',\n",
       "   'content': 'ApeCoin, the native cryptocurrency of the APE Ecosystem, slid 16% Monday in a viciously volatile trading session.\\r\\nTokens were trading at $14.60 per token at presstime. The crypto is often linked wit… [+1515 chars]'}]}"
      ]
     },
     "execution_count": 6,
     "metadata": {},
     "output_type": "execute_result"
    }
   ],
   "source": [
    "# Fetch the Ethereum news articles\n",
    "Ethereum_news = newsapi.get_everything(q=\"Ethereum\", language=\"en\")\n",
    "Ethereum_news"
   ]
  },
  {
   "cell_type": "code",
   "execution_count": 7,
   "metadata": {},
   "outputs": [
    {
     "data": {
      "text/plain": [
       "{'neg': 0.0, 'neu': 1.0, 'pos': 0.0, 'compound': 0.0}"
      ]
     },
     "execution_count": 7,
     "metadata": {},
     "output_type": "execute_result"
    }
   ],
   "source": [
    "bitcoin_list = []\n",
    "text = Bitcoin_news['articles'][19]['content']\n",
    "feeling = analyzer.polarity_scores(text)\n",
    "feeling\n"
   ]
  },
  {
   "cell_type": "code",
   "execution_count": 9,
   "metadata": {},
   "outputs": [],
   "source": [
    "# Create the Bitcoin sentiment scores DataFrame\n",
    "bitcoin_list = [] \n",
    "\n",
    "def news_df(news):\n",
    "    for txt in news['articles']:   \n",
    "            text = txt['content']\n",
    "            feeling = analyzer.polarity_scores(text)\n",
    "            compound = feeling['compound']\n",
    "            positive = feeling[\"pos\"]\n",
    "            neutral = feeling[\"neu\"]\n",
    "            negative = feeling['neg']\n",
    "\n",
    "            bitcoin_list.append({\n",
    "                \"compound\":compound,\n",
    "                \"positive\": positive,\n",
    "                \"neutral\": neutral,\n",
    "                \"negative\": negative\n",
    "            })\n",
    "    \n",
    "          \n",
    "news_df(Bitcoin_news)\n",
    "bitcoin_df = pd.DataFrame(bitcoin_list)\n"
   ]
  },
  {
   "cell_type": "code",
   "execution_count": 26,
   "metadata": {},
   "outputs": [
    {
     "data": {
      "text/html": [
       "<div>\n",
       "<style scoped>\n",
       "    .dataframe tbody tr th:only-of-type {\n",
       "        vertical-align: middle;\n",
       "    }\n",
       "\n",
       "    .dataframe tbody tr th {\n",
       "        vertical-align: top;\n",
       "    }\n",
       "\n",
       "    .dataframe thead th {\n",
       "        text-align: right;\n",
       "    }\n",
       "</style>\n",
       "<table border=\"1\" class=\"dataframe\">\n",
       "  <thead>\n",
       "    <tr style=\"text-align: right;\">\n",
       "      <th></th>\n",
       "      <th>compound</th>\n",
       "      <th>positive</th>\n",
       "      <th>neutral</th>\n",
       "      <th>negative</th>\n",
       "    </tr>\n",
       "  </thead>\n",
       "  <tbody>\n",
       "    <tr>\n",
       "      <th>0</th>\n",
       "      <td>-0.7845</td>\n",
       "      <td>0.088</td>\n",
       "      <td>0.681</td>\n",
       "      <td>0.231</td>\n",
       "    </tr>\n",
       "    <tr>\n",
       "      <th>1</th>\n",
       "      <td>0.1027</td>\n",
       "      <td>0.084</td>\n",
       "      <td>0.844</td>\n",
       "      <td>0.071</td>\n",
       "    </tr>\n",
       "    <tr>\n",
       "      <th>2</th>\n",
       "      <td>0.7351</td>\n",
       "      <td>0.188</td>\n",
       "      <td>0.812</td>\n",
       "      <td>0.000</td>\n",
       "    </tr>\n",
       "    <tr>\n",
       "      <th>3</th>\n",
       "      <td>-0.2263</td>\n",
       "      <td>0.046</td>\n",
       "      <td>0.879</td>\n",
       "      <td>0.075</td>\n",
       "    </tr>\n",
       "    <tr>\n",
       "      <th>4</th>\n",
       "      <td>-0.2732</td>\n",
       "      <td>0.000</td>\n",
       "      <td>0.945</td>\n",
       "      <td>0.055</td>\n",
       "    </tr>\n",
       "    <tr>\n",
       "      <th>5</th>\n",
       "      <td>-0.2960</td>\n",
       "      <td>0.057</td>\n",
       "      <td>0.829</td>\n",
       "      <td>0.114</td>\n",
       "    </tr>\n",
       "    <tr>\n",
       "      <th>6</th>\n",
       "      <td>0.5346</td>\n",
       "      <td>0.142</td>\n",
       "      <td>0.858</td>\n",
       "      <td>0.000</td>\n",
       "    </tr>\n",
       "    <tr>\n",
       "      <th>7</th>\n",
       "      <td>0.2716</td>\n",
       "      <td>0.065</td>\n",
       "      <td>0.935</td>\n",
       "      <td>0.000</td>\n",
       "    </tr>\n",
       "    <tr>\n",
       "      <th>8</th>\n",
       "      <td>0.9327</td>\n",
       "      <td>0.349</td>\n",
       "      <td>0.651</td>\n",
       "      <td>0.000</td>\n",
       "    </tr>\n",
       "    <tr>\n",
       "      <th>9</th>\n",
       "      <td>0.4003</td>\n",
       "      <td>0.078</td>\n",
       "      <td>0.922</td>\n",
       "      <td>0.000</td>\n",
       "    </tr>\n",
       "    <tr>\n",
       "      <th>10</th>\n",
       "      <td>-0.2732</td>\n",
       "      <td>0.000</td>\n",
       "      <td>0.937</td>\n",
       "      <td>0.063</td>\n",
       "    </tr>\n",
       "    <tr>\n",
       "      <th>11</th>\n",
       "      <td>-0.7650</td>\n",
       "      <td>0.000</td>\n",
       "      <td>0.767</td>\n",
       "      <td>0.233</td>\n",
       "    </tr>\n",
       "    <tr>\n",
       "      <th>12</th>\n",
       "      <td>0.0000</td>\n",
       "      <td>0.000</td>\n",
       "      <td>1.000</td>\n",
       "      <td>0.000</td>\n",
       "    </tr>\n",
       "    <tr>\n",
       "      <th>13</th>\n",
       "      <td>-0.4019</td>\n",
       "      <td>0.000</td>\n",
       "      <td>0.920</td>\n",
       "      <td>0.080</td>\n",
       "    </tr>\n",
       "    <tr>\n",
       "      <th>14</th>\n",
       "      <td>-0.2732</td>\n",
       "      <td>0.000</td>\n",
       "      <td>0.937</td>\n",
       "      <td>0.063</td>\n",
       "    </tr>\n",
       "    <tr>\n",
       "      <th>15</th>\n",
       "      <td>-0.2732</td>\n",
       "      <td>0.000</td>\n",
       "      <td>0.937</td>\n",
       "      <td>0.063</td>\n",
       "    </tr>\n",
       "    <tr>\n",
       "      <th>16</th>\n",
       "      <td>-0.1027</td>\n",
       "      <td>0.000</td>\n",
       "      <td>0.964</td>\n",
       "      <td>0.036</td>\n",
       "    </tr>\n",
       "    <tr>\n",
       "      <th>17</th>\n",
       "      <td>-0.1779</td>\n",
       "      <td>0.075</td>\n",
       "      <td>0.803</td>\n",
       "      <td>0.122</td>\n",
       "    </tr>\n",
       "    <tr>\n",
       "      <th>18</th>\n",
       "      <td>0.0000</td>\n",
       "      <td>0.000</td>\n",
       "      <td>1.000</td>\n",
       "      <td>0.000</td>\n",
       "    </tr>\n",
       "    <tr>\n",
       "      <th>19</th>\n",
       "      <td>-0.3182</td>\n",
       "      <td>0.000</td>\n",
       "      <td>0.933</td>\n",
       "      <td>0.067</td>\n",
       "    </tr>\n",
       "  </tbody>\n",
       "</table>\n",
       "</div>"
      ],
      "text/plain": [
       "    compound  positive  neutral  negative\n",
       "0    -0.7845     0.088    0.681     0.231\n",
       "1     0.1027     0.084    0.844     0.071\n",
       "2     0.7351     0.188    0.812     0.000\n",
       "3    -0.2263     0.046    0.879     0.075\n",
       "4    -0.2732     0.000    0.945     0.055\n",
       "5    -0.2960     0.057    0.829     0.114\n",
       "6     0.5346     0.142    0.858     0.000\n",
       "7     0.2716     0.065    0.935     0.000\n",
       "8     0.9327     0.349    0.651     0.000\n",
       "9     0.4003     0.078    0.922     0.000\n",
       "10   -0.2732     0.000    0.937     0.063\n",
       "11   -0.7650     0.000    0.767     0.233\n",
       "12    0.0000     0.000    1.000     0.000\n",
       "13   -0.4019     0.000    0.920     0.080\n",
       "14   -0.2732     0.000    0.937     0.063\n",
       "15   -0.2732     0.000    0.937     0.063\n",
       "16   -0.1027     0.000    0.964     0.036\n",
       "17   -0.1779     0.075    0.803     0.122\n",
       "18    0.0000     0.000    1.000     0.000\n",
       "19   -0.3182     0.000    0.933     0.067"
      ]
     },
     "execution_count": 26,
     "metadata": {},
     "output_type": "execute_result"
    }
   ],
   "source": [
    "# Create the Ethereum sentiment scores DataFrame\n",
    "eth_list = [] \n",
    "\n",
    "def news_df(news):\n",
    "    for txt in news['articles']:   \n",
    "            text = txt['content']\n",
    "            feeling = analyzer.polarity_scores(text)\n",
    "            compound = feeling['compound']\n",
    "            positive = feeling[\"pos\"]\n",
    "            neutral = feeling[\"neu\"]\n",
    "            negative = feeling['neg']\n",
    "\n",
    "            eth_list.append({\n",
    "                \"compound\":compound,\n",
    "                \"positive\": positive,\n",
    "                \"neutral\": neutral,\n",
    "                \"negative\": negative\n",
    "            })\n",
    "    \n",
    "          \n",
    "news_df(Ethereum_news)\n",
    "eth_df = pd.DataFrame(eth_list)\n",
    "eth_df\n"
   ]
  },
  {
   "cell_type": "code",
   "execution_count": 35,
   "metadata": {},
   "outputs": [
    {
     "data": {
      "text/plain": [
       "0.0586"
      ]
     },
     "execution_count": 35,
     "metadata": {},
     "output_type": "execute_result"
    }
   ],
   "source": [
    "# Describe the Bitcoin Sentiment\n",
    "eth_df['positive'].mean()"
   ]
  },
  {
   "cell_type": "code",
   "execution_count": 12,
   "metadata": {},
   "outputs": [],
   "source": [
    "# Describe the Ethereum Sentiment\n",
    "# YOUR CODE HERE!"
   ]
  },
  {
   "cell_type": "markdown",
   "metadata": {},
   "source": [
    "### Questions:\n",
    "\n",
    "Q: Which coin had the highest mean positive score?\n",
    "\n",
    "A: \n",
    "\n",
    "Q: Which coin had the highest compound score?\n",
    "\n",
    "A: \n",
    "\n",
    "Q. Which coin had the highest positive score?\n",
    "\n",
    "A: "
   ]
  },
  {
   "cell_type": "markdown",
   "metadata": {},
   "source": [
    "---"
   ]
  },
  {
   "cell_type": "markdown",
   "metadata": {},
   "source": [
    "## 2. Natural Language Processing\n",
    "---\n",
    "###   Tokenizer\n",
    "\n",
    "In this section, you will use NLTK and Python to tokenize the text for each coin. Be sure to:\n",
    "1. Lowercase each word.\n",
    "2. Remove Punctuation.\n",
    "3. Remove Stopwords."
   ]
  },
  {
   "cell_type": "code",
   "execution_count": 13,
   "metadata": {},
   "outputs": [
    {
     "name": "stderr",
     "output_type": "stream",
     "text": [
      "[nltk_data] Downloading package reuters to\n",
      "[nltk_data]     C:\\Users\\Administrator\\AppData\\Roaming\\nltk_data...\n",
      "[nltk_data]   Package reuters is already up-to-date!\n"
     ]
    },
    {
     "data": {
      "text/plain": [
       "True"
      ]
     },
     "execution_count": 13,
     "metadata": {},
     "output_type": "execute_result"
    }
   ],
   "source": [
    "from nltk.tokenize import word_tokenize, sent_tokenize\n",
    "from nltk.corpus import stopwords, reuters\n",
    "from nltk.stem import WordNetLemmatizer, PorterStemmer\n",
    "from string import punctuation\n",
    "import re\n",
    "nltk.download('reuters')\n"
   ]
  },
  {
   "cell_type": "code",
   "execution_count": 14,
   "metadata": {},
   "outputs": [],
   "source": [
    "# Instantiate the lemmatizer\n",
    "lem = WordNetLemmatizer()\n",
    "# Create a list of stopwords\n",
    "sw = stopwords.words(\"english\")\n",
    "# Expand the default stopwords list if necessary\n",
    "# YOUR CODE HERE!"
   ]
  },
  {
   "cell_type": "code",
   "execution_count": 15,
   "metadata": {},
   "outputs": [
    {
     "data": {
      "text/plain": [
       "['A Bitcoin mining site powered by otherwise lost gas from an oil well near Linden, Texas, on April 4th, 2022. | Photo by FRANCOIS PICARD/AFP via Getty Images\\r\\n\\n \\n\\n Of all the corporate climate hype fl… [+6544 chars]',\n",
       " 'Its set to open later this year\\r\\nIf you buy something from a Verge link, Vox Media may earn a commission. See our ethics statement.\\r\\nIllustration by Alex Castro / The Verge\\r\\nBlock and Blockstream, a … [+1336 chars]',\n",
       " \"Wikipedia editors have voted in favor of dropping cryptocurrency from the Wikimedia Foundation's donation options. As Ars Technica reports, an editor for the online encyclopedia called GorillaWarfare… [+1577 chars]\",\n",
       " 'Warren Buffett has always been a bitcoin skeptic. But the billionaire investor had his most harsh words yet for the cryptocurrency over the weekend. Buffett made it clear that his opposition to crypt… [+2297 chars]',\n",
       " 'If youve ever felt like introducing some Vegas-style odds into your retirement plan, youre finally in luck.\\r\\nLast week, Fidelity Investments announced that it would allow investors to put part of the… [+3239 chars]',\n",
       " 'Cryptocurrency mixers are sometimes used to help online criminals launder their stolen money by hiding its true origins, and the US Treasury is now ready to clamp down on them when hostile government… [+1432 chars]',\n",
       " 'April 12 (Reuters) - A crypto platform\\'s pledge to amass $10 billion worth of bitcoin to back its own \"stablecoin\" is firing up the market. It\\'s part of a wider movement to crown bitcoin as the reser… [+5660 chars]',\n",
       " 'The news:\\xa0Block\\xa0CEO Jack Dorsey announced three new \\r\\nCash App services at the Bitcoin 2022 conference on Thursday, per CoinDesk.\\r\\nInsider Intelligence\\r\\n\"Paid in Bitcoin\" lets Cash App users auto-inv… [+2872 chars]',\n",
       " '18 with 15 posters participating, including story author\\r\\nMore than 200 long-time Wikipedia editors have requested that the Wikimedia Foundation stop accepting cryptocurrency donations.\\xa0The foundatio… [+4016 chars]',\n",
       " \"April 26 (Reuters) - Bitcoin dropped 5.1% to $38,391.36 on Tuesday, down $2,229.82 from its previous close.\\r\\nBitcoin, the world's biggest and best-known cryptocurrency, is up 16% from the year's low … [+339 chars]\",\n",
       " \"May 4 (Reuters) - Bitcoin rose 5.7% to $39,862.84, on Wednesday, adding $2,102.94 to its previous close.\\r\\nBitcoin, the world's biggest and best-known cryptocurrency, is up 20.9% from the year's low o… [+337 chars]\",\n",
       " 'Dogecoiners unite! Movie theater chain AMC has welcomed some more cryptocurrencies as payment options for online and mobile purchases. In a tweet on April 15, AMC CEO Adam Aron announced that moviego… [+1603 chars]',\n",
       " 'Opera launched its dedicated \"Crypto Browser\" into beta back in January, promising to make Web3 as accessible as any Web2 website. The company released the browser for Windows, Mac and Android users … [+1563 chars]',\n",
       " \"The Central African Republic has adopted bitcoin as legal tender, making it the second nation in the world -- after El Salvador -- to do so. On Wednesday, President Faustin Archange Touadera's office… [+1078 chars]\",\n",
       " \"If you want to pay online, you need to register an account and provide credit card information. If you don't have a credit card, you can pay with bank transfer. With the rise of cryptocurrencies, the… [+8836 chars]\",\n",
       " 'May 5 (Reuters) - Block Inc (SQ.N), the payments company led by Jack Dorsey, on Thursday reported a loss for the first quarter as demand for bitcoin softened due to a decline in cryptocurrency prices… [+635 chars]',\n",
       " \"ZURICH, April 29 (Reuters) - The Swiss National Bank is against buying and holding bitcoin as a reserve currency, Chairman Thomas Jordan said at the central bank's annual general meeting on Friday.\\r\\n… [+1882 chars]\",\n",
       " \"TEGUCIGALPA, April 7 (Reuters) - A special economic zone on a tourist-centric island on Honduras' Caribbean coast has adopted bitcoin and other cryptocurrencies as legal tender, officials of the zone… [+1363 chars]\",\n",
       " \"BANGUI, April 28 (Reuters) - Central African Republic's adoption of bitcoin, while many of the world's largest economies stay wary of it, has puzzled the cryptocurrency world and residents of the gol… [+4218 chars]\",\n",
       " 'BANGUI, April 27 (Reuters) - Central African Republic has adopted bitcoin as an official currency, the presidency said on Wednesday, becoming the first country in Africa and only the second in the wo… [+2211 chars]']"
      ]
     },
     "execution_count": 15,
     "metadata": {},
     "output_type": "execute_result"
    }
   ],
   "source": [
    "Bitcoin_corpus = [(txt['content']) for txt in Bitcoin_news['articles']]\n",
    "# iterte through a list of dictionaries\n",
    "Bitcoin_corpus\n",
    "\n"
   ]
  },
  {
   "cell_type": "code",
   "execution_count": 16,
   "metadata": {},
   "outputs": [
    {
     "ename": "TypeError",
     "evalue": "expected string or bytes-like object",
     "output_type": "error",
     "traceback": [
      "\u001b[1;31m---------------------------------------------------------------------------\u001b[0m",
      "\u001b[1;31mTypeError\u001b[0m                                 Traceback (most recent call last)",
      "\u001b[1;32m~\\AppData\\Local\\Temp\\ipykernel_13412\\255949063.py\u001b[0m in \u001b[0;36m<module>\u001b[1;34m\u001b[0m\n\u001b[0;32m     21\u001b[0m     \u001b[1;32mreturn\u001b[0m \u001b[0mtokens\u001b[0m\u001b[1;33m\u001b[0m\u001b[1;33m\u001b[0m\u001b[0m\n\u001b[0;32m     22\u001b[0m \u001b[1;33m\u001b[0m\u001b[0m\n\u001b[1;32m---> 23\u001b[1;33m \u001b[0mtokenizer\u001b[0m\u001b[1;33m(\u001b[0m\u001b[0mBitcoin_corpus\u001b[0m\u001b[1;33m)\u001b[0m\u001b[1;33m\u001b[0m\u001b[1;33m\u001b[0m\u001b[0m\n\u001b[0m",
      "\u001b[1;32m~\\AppData\\Local\\Temp\\ipykernel_13412\\255949063.py\u001b[0m in \u001b[0;36mtokenizer\u001b[1;34m(text)\u001b[0m\n\u001b[0;32m      5\u001b[0m     \u001b[1;31m# Remove the punctuation from text\u001b[0m\u001b[1;33m\u001b[0m\u001b[1;33m\u001b[0m\u001b[1;33m\u001b[0m\u001b[0m\n\u001b[0;32m      6\u001b[0m     \u001b[0mregex\u001b[0m \u001b[1;33m=\u001b[0m \u001b[0mre\u001b[0m\u001b[1;33m.\u001b[0m\u001b[0mcompile\u001b[0m\u001b[1;33m(\u001b[0m\u001b[1;34m\"[^a-zA-Z ]\"\u001b[0m\u001b[1;33m)\u001b[0m\u001b[1;33m\u001b[0m\u001b[1;33m\u001b[0m\u001b[0m\n\u001b[1;32m----> 7\u001b[1;33m     \u001b[0mre_clean\u001b[0m \u001b[1;33m=\u001b[0m \u001b[0mregex\u001b[0m\u001b[1;33m.\u001b[0m\u001b[0msub\u001b[0m\u001b[1;33m(\u001b[0m\u001b[1;34m''\u001b[0m\u001b[1;33m,\u001b[0m \u001b[0mtext\u001b[0m\u001b[1;33m)\u001b[0m\u001b[1;33m\u001b[0m\u001b[1;33m\u001b[0m\u001b[0m\n\u001b[0m\u001b[0;32m      8\u001b[0m \u001b[1;33m\u001b[0m\u001b[0m\n\u001b[0;32m      9\u001b[0m     \u001b[1;31m# Create a tokenized list of the words\u001b[0m\u001b[1;33m\u001b[0m\u001b[1;33m\u001b[0m\u001b[1;33m\u001b[0m\u001b[0m\n",
      "\u001b[1;31mTypeError\u001b[0m: expected string or bytes-like object"
     ]
    }
   ],
   "source": [
    "# Complete the tokenizer function\n",
    "def tokenizer(text):\n",
    "    \"\"\"Tokenizes text.\"\"\"\n",
    "    \n",
    "    # Remove the punctuation from text\n",
    "    regex = re.compile(\"[^a-zA-Z ]\")\n",
    "    re_clean = regex.sub('', text)\n",
    "   \n",
    "    # Create a tokenized list of the words\n",
    "    token_list = [word_tokenize(txt) for txt in re_clean]\n",
    "    \n",
    "    # Lemmatize words into root words\n",
    "    tokens = [lem.lemmatize(word).lower() for word in token_list if word not in sw]\n",
    "   \n",
    "    # Convert the words to lowercase\n",
    "    \n",
    "    \n",
    "    # Remove the stop words\n",
    "    \n",
    "    \n",
    "    return tokens\n",
    "\n",
    "tokenizer(Bitcoin_corpus)"
   ]
  },
  {
   "cell_type": "code",
   "execution_count": null,
   "metadata": {},
   "outputs": [
    {
     "data": {
      "text/plain": [
       "'The news:\\xa0Block\\xa0CEO Jack Dorsey announced three new \\r\\nCash App services at the Bitcoin 2022 conference on Thursday, per CoinDesk.\\r\\nInsider Intelligence\\r\\n\"Paid in Bitcoin\" lets Cash App users auto-inv… [+2872 chars]'"
      ]
     },
     "execution_count": 177,
     "metadata": {},
     "output_type": "execute_result"
    }
   ],
   "source": [
    "regex = re.compile(\"[^a-zA-Z]\")\n",
    "# re_clean = regex.sub(' ', Bitcoin_corpus)\n",
    "Bitcoin_corpus[7]"
   ]
  },
  {
   "cell_type": "code",
   "execution_count": null,
   "metadata": {},
   "outputs": [
    {
     "data": {
      "text/plain": [
       "['A Bitcoin mining site powered by otherwise lost gas from an oil well near Linden, Texas, on April 4th, 2022. | Photo by FRANCOIS PICARD/AFP via Getty Images\\r\\n\\n \\n\\n Of all the corporate climate hype fl… [+6544 chars]',\n",
       " 'Its set to open later this year\\r\\nIf you buy something from a Verge link, Vox Media may earn a commission. See our ethics statement.\\r\\nIllustration by Alex Castro / The Verge\\r\\nBlock and Blockstream, a … [+1336 chars]',\n",
       " \"Wikipedia editors have voted in favor of dropping cryptocurrency from the Wikimedia Foundation's donation options. As Ars Technica reports, an editor for the online encyclopedia called GorillaWarfare… [+1577 chars]\",\n",
       " 'Warren Buffett has always been a bitcoin skeptic. But the billionaire investor had his most harsh words yet for the cryptocurrency over the weekend. Buffett made it clear that his opposition to crypt… [+2297 chars]',\n",
       " 'If youve ever felt like introducing some Vegas-style odds into your retirement plan, youre finally in luck.\\r\\nLast week, Fidelity Investments announced that it would allow investors to put part of the… [+3239 chars]',\n",
       " 'Cryptocurrency mixers are sometimes used to help online criminals launder their stolen money by hiding its true origins, and the US Treasury is now ready to clamp down on them when hostile government… [+1432 chars]',\n",
       " 'April 12 (Reuters) - A crypto platform\\'s pledge to amass $10 billion worth of bitcoin to back its own \"stablecoin\" is firing up the market. It\\'s part of a wider movement to crown bitcoin as the reser… [+5660 chars]',\n",
       " 'The news:\\xa0Block\\xa0CEO Jack Dorsey announced three new \\r\\nCash App services at the Bitcoin 2022 conference on Thursday, per CoinDesk.\\r\\nInsider Intelligence\\r\\n\"Paid in Bitcoin\" lets Cash App users auto-inv… [+2872 chars]',\n",
       " '18 with 15 posters participating, including story author\\r\\nMore than 200 long-time Wikipedia editors have requested that the Wikimedia Foundation stop accepting cryptocurrency donations.\\xa0The foundatio… [+4016 chars]',\n",
       " \"April 26 (Reuters) - Bitcoin dropped 5.1% to $38,391.36 on Tuesday, down $2,229.82 from its previous close.\\r\\nBitcoin, the world's biggest and best-known cryptocurrency, is up 16% from the year's low … [+339 chars]\",\n",
       " \"May 4 (Reuters) - Bitcoin rose 5.7% to $39,862.84, on Wednesday, adding $2,102.94 to its previous close.\\r\\nBitcoin, the world's biggest and best-known cryptocurrency, is up 20.9% from the year's low o… [+337 chars]\",\n",
       " 'Dogecoiners unite! Movie theater chain AMC has welcomed some more cryptocurrencies as payment options for online and mobile purchases. In a tweet on April 15, AMC CEO Adam Aron announced that moviego… [+1603 chars]',\n",
       " 'Opera launched its dedicated \"Crypto Browser\" into beta back in January, promising to make Web3 as accessible as any Web2 website. The company released the browser for Windows, Mac and Android users … [+1563 chars]',\n",
       " \"The Central African Republic has adopted bitcoin as legal tender, making it the second nation in the world -- after El Salvador -- to do so. On Wednesday, President Faustin Archange Touadera's office… [+1078 chars]\",\n",
       " \"If you want to pay online, you need to register an account and provide credit card information. If you don't have a credit card, you can pay with bank transfer. With the rise of cryptocurrencies, the… [+8836 chars]\",\n",
       " 'May 5 (Reuters) - Block Inc (SQ.N), the payments company led by Jack Dorsey, on Thursday reported a loss for the first quarter as demand for bitcoin softened due to a decline in cryptocurrency prices… [+635 chars]',\n",
       " \"TEGUCIGALPA, April 7 (Reuters) - A special economic zone on a tourist-centric island on Honduras' Caribbean coast has adopted bitcoin and other cryptocurrencies as legal tender, officials of the zone… [+1363 chars]\",\n",
       " \"BANGUI, April 28 (Reuters) - Central African Republic's adoption of bitcoin, while many of the world's largest economies stay wary of it, has puzzled the cryptocurrency world and residents of the gol… [+4218 chars]\",\n",
       " 'BANGUI, April 27 (Reuters) - Central African Republic has adopted bitcoin as an official currency, the presidency said on Wednesday, becoming the first country in Africa and only the second in the wo… [+2211 chars]',\n",
       " \"Posted \\r\\nA senior government official says South Africa's green transition will need funding of one trillion rand while Zambia's president says the country is close to finding an investor for Mopani … [+93 chars]\"]"
      ]
     },
     "execution_count": 169,
     "metadata": {},
     "output_type": "execute_result"
    }
   ],
   "source": [
    "Bitcoin_corpus"
   ]
  },
  {
   "cell_type": "code",
   "execution_count": null,
   "metadata": {},
   "outputs": [],
   "source": [
    "# Create a new tokens column for Bitcoin\n",
    "# YOUR CODE HERE!"
   ]
  },
  {
   "cell_type": "code",
   "execution_count": null,
   "metadata": {},
   "outputs": [],
   "source": [
    "# Create a new tokens column for Ethereum\n",
    "# YOUR CODE HERE!"
   ]
  },
  {
   "cell_type": "markdown",
   "metadata": {},
   "source": [
    "---"
   ]
  },
  {
   "cell_type": "markdown",
   "metadata": {},
   "source": [
    "### NGrams and Frequency Analysis\n",
    "\n",
    "In this section you will look at the ngrams and word frequency for each coin. \n",
    "\n",
    "1. Use NLTK to produce the n-grams for N = 2. \n",
    "2. List the top 10 words for each coin. "
   ]
  },
  {
   "cell_type": "code",
   "execution_count": null,
   "metadata": {},
   "outputs": [],
   "source": [
    "from collections import Counter\n",
    "from nltk import ngrams"
   ]
  },
  {
   "cell_type": "code",
   "execution_count": null,
   "metadata": {},
   "outputs": [],
   "source": [
    "# Generate the Bitcoin N-grams where N=2\n",
    "# YOUR CODE HERE!"
   ]
  },
  {
   "cell_type": "code",
   "execution_count": null,
   "metadata": {},
   "outputs": [],
   "source": [
    "# Generate the Ethereum N-grams where N=2\n",
    "# YOUR CODE HERE!"
   ]
  },
  {
   "cell_type": "code",
   "execution_count": null,
   "metadata": {},
   "outputs": [],
   "source": [
    "# Function token_count generates the top 10 words for a given coin\n",
    "def token_count(tokens, N=3):\n",
    "    \"\"\"Returns the top N tokens from the frequency count\"\"\"\n",
    "    return Counter(tokens).most_common(N)"
   ]
  },
  {
   "cell_type": "code",
   "execution_count": null,
   "metadata": {},
   "outputs": [],
   "source": [
    "# Use token_count to get the top 10 words for Bitcoin\n",
    "# YOUR CODE HERE!"
   ]
  },
  {
   "cell_type": "code",
   "execution_count": null,
   "metadata": {},
   "outputs": [],
   "source": [
    "# Use token_count to get the top 10 words for Ethereum\n",
    "# YOUR CODE HERE!"
   ]
  },
  {
   "cell_type": "markdown",
   "metadata": {},
   "source": [
    "---"
   ]
  },
  {
   "cell_type": "markdown",
   "metadata": {},
   "source": [
    "### Word Clouds\n",
    "\n",
    "In this section, you will generate word clouds for each coin to summarize the news for each coin"
   ]
  },
  {
   "cell_type": "code",
   "execution_count": null,
   "metadata": {},
   "outputs": [],
   "source": [
    "from wordcloud import WordCloud\n",
    "import matplotlib.pyplot as plt\n",
    "plt.style.use('seaborn-whitegrid')\n",
    "import matplotlib as mpl\n",
    "mpl.rcParams['figure.figsize'] = [20.0, 10.0]"
   ]
  },
  {
   "cell_type": "code",
   "execution_count": null,
   "metadata": {},
   "outputs": [],
   "source": [
    "# Generate the Bitcoin word cloud\n",
    "# YOUR CODE HERE!"
   ]
  },
  {
   "cell_type": "code",
   "execution_count": null,
   "metadata": {},
   "outputs": [],
   "source": [
    "# Generate the Ethereum word cloud\n",
    "# YOUR CODE HERE!"
   ]
  },
  {
   "cell_type": "markdown",
   "metadata": {},
   "source": [
    "---\n",
    "## 3. Named Entity Recognition\n",
    "\n",
    "In this section, you will build a named entity recognition model for both Bitcoin and Ethereum, then visualize the tags using SpaCy."
   ]
  },
  {
   "cell_type": "code",
   "execution_count": null,
   "metadata": {},
   "outputs": [],
   "source": [
    "import spacy\n",
    "from spacy import displacy"
   ]
  },
  {
   "cell_type": "code",
   "execution_count": null,
   "metadata": {},
   "outputs": [],
   "source": [
    "# Download the language model for SpaCy\n",
    "# !python -m spacy download en_core_web_sm"
   ]
  },
  {
   "cell_type": "code",
   "execution_count": null,
   "metadata": {},
   "outputs": [],
   "source": [
    "# Load the spaCy model\n",
    "nlp = spacy.load('en_core_web_sm')"
   ]
  },
  {
   "cell_type": "markdown",
   "metadata": {},
   "source": [
    "---\n",
    "### Bitcoin NER"
   ]
  },
  {
   "cell_type": "code",
   "execution_count": null,
   "metadata": {},
   "outputs": [],
   "source": [
    "# Concatenate all of the Bitcoin text together\n",
    "# YOUR CODE HERE!"
   ]
  },
  {
   "cell_type": "code",
   "execution_count": null,
   "metadata": {},
   "outputs": [],
   "source": [
    "# Run the NER processor on all of the text\n",
    "# YOUR CODE HERE!\n",
    "\n",
    "# Add a title to the document\n",
    "# YOUR CODE HERE!"
   ]
  },
  {
   "cell_type": "code",
   "execution_count": null,
   "metadata": {},
   "outputs": [],
   "source": [
    "# Render the visualization\n",
    "# YOUR CODE HERE!"
   ]
  },
  {
   "cell_type": "code",
   "execution_count": null,
   "metadata": {},
   "outputs": [],
   "source": [
    "# List all Entities\n",
    "# YOUR CODE HERE!"
   ]
  },
  {
   "cell_type": "markdown",
   "metadata": {},
   "source": [
    "---"
   ]
  },
  {
   "cell_type": "markdown",
   "metadata": {},
   "source": [
    "### Ethereum NER"
   ]
  },
  {
   "cell_type": "code",
   "execution_count": null,
   "metadata": {},
   "outputs": [],
   "source": [
    "# Concatenate all of the Ethereum text together\n",
    "# YOUR CODE HERE!"
   ]
  },
  {
   "cell_type": "code",
   "execution_count": null,
   "metadata": {},
   "outputs": [],
   "source": [
    "# Run the NER processor on all of the text\n",
    "# YOUR CODE HERE!\n",
    "\n",
    "# Add a title to the document\n",
    "# YOUR CODE HERE!"
   ]
  },
  {
   "cell_type": "code",
   "execution_count": null,
   "metadata": {},
   "outputs": [],
   "source": [
    "# Render the visualization\n",
    "# YOUR CODE HERE!"
   ]
  },
  {
   "cell_type": "code",
   "execution_count": null,
   "metadata": {},
   "outputs": [],
   "source": [
    "# List all Entities\n",
    "# YOUR CODE HERE!"
   ]
  },
  {
   "cell_type": "markdown",
   "metadata": {},
   "source": [
    "---"
   ]
  }
 ],
 "metadata": {
  "file_extension": ".py",
  "kernelspec": {
   "display_name": "Python 3",
   "language": "python",
   "name": "python3"
  },
  "language_info": {
   "codemirror_mode": {
    "name": "ipython",
    "version": 3
   },
   "file_extension": ".py",
   "mimetype": "text/x-python",
   "name": "python",
   "nbconvert_exporter": "python",
   "pygments_lexer": "ipython3",
   "version": "3.7.11"
  },
  "mimetype": "text/x-python",
  "name": "python",
  "npconvert_exporter": "python",
  "pygments_lexer": "ipython3",
  "version": 3
 },
 "nbformat": 4,
 "nbformat_minor": 4
}
