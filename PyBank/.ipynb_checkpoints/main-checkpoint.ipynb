{
 "cells": [
  {
   "cell_type": "code",
   "execution_count": 12,
   "id": "2928cf2a-2d75-40c0-800d-93fa7155247f",
   "metadata": {},
   "outputs": [],
   "source": [
    "from pathlib import Path\n",
    "import csv"
   ]
  },
  {
   "cell_type": "code",
   "execution_count": 13,
   "id": "3cd7d245-8914-4031-8c67-d7aba089b275",
   "metadata": {},
   "outputs": [],
   "source": [
    "budget_data = Path('.\\\\budget_data.csv')\n",
    "text_file = Path('.\\\\budget_analysis.txt')"
   ]
  },
  {
   "cell_type": "code",
   "execution_count": 14,
   "id": "fd6d58db-7ffd-4aa9-9a44-f3809979ff73",
   "metadata": {},
   "outputs": [],
   "source": [
    "total_months = 0\n",
    "month_of_change = []\n",
    "net_change_list = []\n",
    "greatest_increase = [\"\", 0]\n",
    "greatest_decrease = [\"\", 9999]\n",
    "total_net = 0\n",
    "date = []"
   ]
  },
  {
   "cell_type": "code",
   "execution_count": 15,
   "id": "9048bcc6-f483-4ec2-8e6f-a29e5886a407",
   "metadata": {},
   "outputs": [],
   "source": [
    "with open(budget_data, 'r') as budget:\n",
    "    read_data = csv.reader(budget)\n",
    "    \n",
    "    header = next(read_data)\n",
    "    first_row = next(read_data)\n",
    "    total_months += 1\n",
    "    total_net = total_net + int(first_row[1])\n",
    "    previous_net = int(first_row[1])\n",
    "    \n",
    "    for bud in read_data:\n",
    "        \n",
    "        # These track the totals\n",
    "        total_months += 1\n",
    "        total_net = total_net + int(bud[1])\n",
    "        \n",
    "        # Net change\n",
    "        net_change = int(bud[1]) - previous_net\n",
    "        previous_net = int(bud[1])\n",
    "        net_change_list.append(net_change)\n",
    "        month_of_change.append(bud[0])\n",
    "        \n",
    "        if net_change > greatest_increase[1]:\n",
    "            greatest_increase[1] = net_change\n",
    "            greatest_increase[0] = bud[0]\n",
    "            \n",
    "        elif net_change < greatest_decrease[1]:\n",
    "            greatest_decrease[0] = bud[0]\n",
    "            greatest_decrease[1] = net_change\n",
    "            \n",
    "        \n",
    "    \n",
    "        \n",
    "\n",
    "    \n",
    "    \n",
    "    "
   ]
  },
  {
   "cell_type": "code",
   "execution_count": 16,
   "id": "e0db5ece-a006-4591-93e9-7ef77141146e",
   "metadata": {},
   "outputs": [
    {
     "name": "stdout",
     "output_type": "stream",
     "text": [
      "-2315.1176470588234\n"
     ]
    }
   ],
   "source": [
    "#   calculate the average change\n",
    "average_change = sum(net_change_list) / len(net_change_list)\n",
    "print(average_change)"
   ]
  },
  {
   "cell_type": "code",
   "execution_count": 17,
   "id": "a8bab839-f148-442e-a025-b9593b012ce6",
   "metadata": {},
   "outputs": [
    {
     "name": "stdout",
     "output_type": "stream",
     "text": [
      "Financial Analysis\n",
      "----------------------------\n",
      "Total Months: 86\n",
      "Total: 38382578\n",
      "Average  Change: -2315.1176470588234\n",
      "Greatest Increase in Profits: ['Feb-2012', 1926159]\n",
      "Greatest Decrease in Profits: ['Sep-2013', -2196167]\n"
     ]
    }
   ],
   "source": [
    "print('Financial Analysis')\n",
    "print('----------------------------')\n",
    "print(f'Total Months: {total_months}')\n",
    "print(f'Total: {total_net}')\n",
    "print(f'Average  Change: {average_change}')\n",
    "print(f'Greatest Increase in Profits: {greatest_increase}') \n",
    "print(f'Greatest Decrease in Profits: {greatest_decrease}')\n"
   ]
  },
  {
   "cell_type": "code",
   "execution_count": 19,
   "id": "2b97e1e0-f92b-4a48-b606-0ee4e4e52f5b",
   "metadata": {},
   "outputs": [],
   "source": [
    "with open(text_file, 'w') as txt_file:\n",
    "    txt_file.write(f'Financial Analysis \\n')\n",
    "    txt_file.write('----------------------------\\n')\n",
    "    txt_file.write(f'Total Months: {total_months} \\n')\n",
    "    txt_file.write(f'Total: {total_net}\\n')\n",
    "    txt_file.write(f'Average  Change: {average_change}\\n')\n",
    "    txt_file.write(f'Greatest Increase in Profits: {greatest_increase}\\n')\n",
    "    txt_file.write(f'Greatest Decrease in Profits: {greatest_decrease}\\n')"
   ]
  },
  {
   "cell_type": "code",
   "execution_count": null,
   "id": "a6dc158b-d255-44d8-8c9c-36e6cda15c2e",
   "metadata": {},
   "outputs": [],
   "source": []
  }
 ],
 "metadata": {
  "kernelspec": {
   "display_name": "Python 3 (ipykernel)",
   "language": "python",
   "name": "python3"
  },
  "language_info": {
   "codemirror_mode": {
    "name": "ipython",
    "version": 3
   },
   "file_extension": ".py",
   "mimetype": "text/x-python",
   "name": "python",
   "nbconvert_exporter": "python",
   "pygments_lexer": "ipython3",
   "version": "3.7.11"
  }
 },
 "nbformat": 4,
 "nbformat_minor": 5
}
