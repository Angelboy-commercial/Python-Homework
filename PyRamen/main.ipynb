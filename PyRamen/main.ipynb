{
 "cells": [
  {
   "cell_type": "code",
   "execution_count": 2,
   "id": "2e5d5950-4d85-4867-b67d-69c37facb6c6",
   "metadata": {},
   "outputs": [],
   "source": [
    "from pathlib import Path\n",
    "import csv"
   ]
  },
  {
   "cell_type": "code",
   "execution_count": 3,
   "id": "3bfaf238-6e22-4139-adfc-64ffaf221bc7",
   "metadata": {},
   "outputs": [],
   "source": [
    "menu_csv = Path('.\\menu_data.csv')\n",
    "# sales_csv = Path('\\')"
   ]
  },
  {
   "cell_type": "code",
   "execution_count": 4,
   "id": "7a01f515-ba47-4d0b-b5ae-c597a4cc3ce4",
   "metadata": {},
   "outputs": [],
   "source": [
    "menu_list = []\n",
    "sales_list = []"
   ]
  },
  {
   "cell_type": "code",
   "execution_count": 5,
   "id": "b7ee059c-d442-46f7-8a69-73e9fcc4bd40",
   "metadata": {},
   "outputs": [],
   "source": [
    "with open(menu_csv, 'r') as menu:\n",
    "    read_menu = csv.reader(menu)\n",
    "    \n",
    "    skip_header = next(read_menu)\n",
    "    for item in read_menu:\n",
    "        menu_list.append(item)"
   ]
  },
  {
   "cell_type": "code",
   "execution_count": null,
   "id": "28c1fd53-4993-4466-9c98-3f9edf787fec",
   "metadata": {},
   "outputs": [],
   "source": []
  },
  {
   "cell_type": "code",
   "execution_count": null,
   "id": "37b0319b-f88a-4ca1-bc80-117e648f1743",
   "metadata": {},
   "outputs": [],
   "source": []
  }
 ],
 "metadata": {
  "kernelspec": {
   "display_name": "Python 3 (ipykernel)",
   "language": "python",
   "name": "python3"
  },
  "language_info": {
   "codemirror_mode": {
    "name": "ipython",
    "version": 3
   },
   "file_extension": ".py",
   "mimetype": "text/x-python",
   "name": "python",
   "nbconvert_exporter": "python",
   "pygments_lexer": "ipython3",
   "version": "3.9.7"
  }
 },
 "nbformat": 4,
 "nbformat_minor": 5
}
